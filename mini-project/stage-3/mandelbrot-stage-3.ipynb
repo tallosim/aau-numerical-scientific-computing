{
 "cells": [
  {
   "attachments": {},
   "cell_type": "markdown",
   "metadata": {},
   "source": [
    "# Mandelbrot Set - Mini Project - Stage 3\n",
    "\n",
    "Numerical Scientific Computing (CE8-AVS) - Spring 2023 - Mini Project\n",
    "\n",
    "**Author:** [Máté Tallósi](https://github.com/tallosim)\n",
    "**Date:** 2023-04-26"
   ]
  },
  {
   "cell_type": "code",
   "execution_count": 1,
   "metadata": {},
   "outputs": [],
   "source": [
    "import matplotlib.pyplot as plt\n",
    "from dask import array as da\n",
    "import numpy as np\n",
    "import pyopencl as cl\n",
    "import pandas as pd\n",
    "import multiprocessing as mp\n",
    "from numba import jit\n",
    "import time\n",
    "from tqdm import tqdm\n",
    "import unittest\n",
    "\n",
    "from utils import *"
   ]
  },
  {
   "attachments": {},
   "cell_type": "markdown",
   "metadata": {},
   "source": [
    "## Parameter Definition\n",
    "\n",
    "The following parameters are used to define the Mandelbrot set. The parameters are defined in the following cell.\n",
    "\n",
    "The resolution of the image is defined by the `X_RES` and `Y_RES` parameters. The `X_MIN`, `X_MAX`, `Y_MIN`, and `Y_MAX` parameters define the area of the complex plane that is displayed. The `I` parameter defines the maximum number of iterations for each pixel. The `T` parameter defines the threshold value for the Mandelbrot set."
   ]
  },
  {
   "cell_type": "code",
   "execution_count": 2,
   "metadata": {},
   "outputs": [
    {
     "data": {
      "text/plain": [
       "{'divide': 'warn', 'over': 'warn', 'under': 'ignore', 'invalid': 'warn'}"
      ]
     },
     "execution_count": 2,
     "metadata": {},
     "output_type": "execute_result"
    }
   ],
   "source": [
    "X_RES = 5000\n",
    "X_MIN = -2\n",
    "X_MAX = 0.5\n",
    "Y_RES = 5000\n",
    "Y_MIN = -1.25\n",
    "Y_MAX = 1.25\n",
    "\n",
    "I = 50\n",
    "T = 2\n",
    "\n",
    "np.seterr(all='ignore')"
   ]
  },
  {
   "attachments": {},
   "cell_type": "markdown",
   "metadata": {},
   "source": [
    "### Madelbrot Set Ploting"
   ]
  },
  {
   "cell_type": "code",
   "execution_count": 3,
   "metadata": {},
   "outputs": [],
   "source": [
    "def make_plot(M, cmap='hot', save=False, filename='mandelbrot.png'):\n",
    "    \"\"\"\n",
    "    Creates a plot of the Mandelbrot set from the input matrix M.\n",
    "\n",
    "    Parameters:\n",
    "    -----------\n",
    "    M : numpy.ndarray\n",
    "        The input matrix representing the Mandelbrot set.\n",
    "    cmap : str or Colormap, optional\n",
    "        The colormap used to plot the image. Defaults to 'hot'.\n",
    "    save : bool, optional\n",
    "        If True, saves the plot to a file with the given filename. Defaults to False.\n",
    "    filename : str, optional\n",
    "        The filename to save the plot to, if save is True. Defaults to 'mandelbrot.png'.\n",
    "\n",
    "    Returns:\n",
    "    --------\n",
    "    None\n",
    "    \"\"\"\n",
    "    \n",
    "    plt.figure()\n",
    "    plt.xlabel('Real axis')\n",
    "    plt.ylabel('Imaginary axis')\n",
    "    plt.imshow(M, cmap=cmap, aspect='equal', extent=[X_MIN, X_MAX, Y_MIN, Y_MAX])\n",
    "\n",
    "    if save:\n",
    "        plt.savefig(filename, dpi=600, bbox_inches='tight', pad_inches=0)"
   ]
  },
  {
   "attachments": {},
   "cell_type": "markdown",
   "metadata": {},
   "source": [
    "## Alreadey Implemented Calculation Methods"
   ]
  },
  {
   "attachments": {},
   "cell_type": "markdown",
   "metadata": {},
   "source": [
    "### Naive (loops) Implementation"
   ]
  },
  {
   "cell_type": "code",
   "execution_count": 4,
   "metadata": {},
   "outputs": [],
   "source": [
    "def mandelbrot_naive(re, im, M, I, T):\n",
    "    \"\"\"\n",
    "    Computes the Mandelbrot set using a naive algorithm.\n",
    "    \n",
    "    Parameters:\n",
    "    -----------\n",
    "    re : numpy.ndarray\n",
    "        A one-dimensional array representing the real part of the complex plane.\n",
    "    im : numpy.ndarray\n",
    "        A one-dimensional array representing the imaginary part of the complex plane.\n",
    "    M : numpy.ndarray\n",
    "        A two-dimensional array used to store the output of the Mandelbrot set.\n",
    "    I : int\n",
    "        The maximum number of iterations used to compute the Mandelbrot set.\n",
    "    T : int\n",
    "        The threshold used to determine whether a complex number is in the Mandelbrot set.\n",
    "        \n",
    "    Raises:\n",
    "    -------\n",
    "    ValueError\n",
    "        If the shape of C (`re`, `im`) and `M` do not match.\n",
    "\n",
    "    Returns:\n",
    "    --------\n",
    "    None\n",
    "    \"\"\"\n",
    "    \n",
    "    if (im.shape[0], re.shape[0]) != M.shape:\n",
    "        raise ValueError('C and M must have the same shape')\n",
    "    \n",
    "    x_max, y_max = M.shape\n",
    "    \n",
    "    for x in range(x_max):\n",
    "        for y in range(y_max):\n",
    "            c = re[y] + im[x] * 1j\n",
    "            z = 0 + 0j\n",
    "            for i in range(I):\n",
    "                z = z**2 + c\n",
    "                if T <= abs(z):\n",
    "                    M[x, y] = i / I\n",
    "                    break\n",
    "            else:\n",
    "                M[x, y] = 1"
   ]
  },
  {
   "attachments": {},
   "cell_type": "markdown",
   "metadata": {},
   "source": [
    "### Numpy (vectorized) Implementation"
   ]
  },
  {
   "cell_type": "code",
   "execution_count": 5,
   "metadata": {},
   "outputs": [],
   "source": [
    "def mandelbrot_vectorized(re, im, M, I, T):\n",
    "    \"\"\"\n",
    "    Computes the Mandelbrot set using a numpy vectorized algorithm.\n",
    "    \n",
    "    Parameters:\n",
    "    -----------\n",
    "    re : numpy.ndarray\n",
    "        A one-dimensional array representing the real part of the complex plane.\n",
    "    im : numpy.ndarray\n",
    "        A one-dimensional array representing the imaginary part of the complex plane.\n",
    "    M : numpy.ndarray\n",
    "        A two-dimensional array used to store the output of the Mandelbrot set.\n",
    "    I : int\n",
    "        The maximum number of iterations used to compute the Mandelbrot set.\n",
    "    T : int\n",
    "        The threshold used to determine whether a complex number is in the Mandelbrot set.\n",
    "        \n",
    "    Raises:\n",
    "    -------\n",
    "    ValueError\n",
    "        If the shape of C (`re`, `im`) and `M` do not match.\n",
    "\n",
    "    Returns:\n",
    "    --------\n",
    "    None\n",
    "    \"\"\"\n",
    "    \n",
    "    if (im.shape[0], re.shape[0]) != M.shape:\n",
    "        raise ValueError('C and M must have the same shape')\n",
    "    \n",
    "    c = re + im[:, np.newaxis] * 1j\n",
    "    z = np.zeros_like(c)\n",
    "    mask = np.full_like(c, True, dtype=bool)\n",
    "\n",
    "    for i in range(1, I+1):\n",
    "        z[mask] = z[mask]**2 + c[mask]\n",
    "        mask[T <= np.abs(z)] = False\n",
    "        M[mask] = i / I"
   ]
  },
  {
   "attachments": {},
   "cell_type": "markdown",
   "metadata": {},
   "source": [
    "### Numba (optimized) Implementation"
   ]
  },
  {
   "cell_type": "code",
   "execution_count": 6,
   "metadata": {},
   "outputs": [],
   "source": [
    "@jit(nopython=True)\n",
    "def mandelbrot_numba(re, im, M, I, T):\n",
    "    \"\"\"\n",
    "    Computes the Mandelbrot set using Numba's just-in-time (JIT) compilation.\n",
    "    \n",
    "    Parameters:\n",
    "    -----------\n",
    "    re : numpy.ndarray\n",
    "        A one-dimensional array representing the real part of the complex plane.\n",
    "    im : numpy.ndarray\n",
    "        A one-dimensional array representing the imaginary part of the complex plane.\n",
    "    M : numpy.ndarray\n",
    "        A two-dimensional array used to store the output of the Mandelbrot set.\n",
    "    I : int\n",
    "        The maximum number of iterations used to compute the Mandelbrot set.\n",
    "    T : int\n",
    "        The threshold used to determine whether a complex number is in the Mandelbrot set.\n",
    "        \n",
    "    Raises:\n",
    "    -------\n",
    "    ValueError\n",
    "        If the shape of C (`re`, `im`) and `M` do not match.\n",
    "\n",
    "    Returns:\n",
    "    --------\n",
    "    None\n",
    "    \"\"\"\n",
    "    \n",
    "    if (im.shape[0], re.shape[0]) != M.shape:\n",
    "        raise ValueError('C and M must have the same shape')\n",
    "    \n",
    "    x_max, y_max = M.shape\n",
    "    \n",
    "    for x in range(x_max):\n",
    "        for y in range(y_max):\n",
    "            c = re[y] + im[x] * 1j\n",
    "            z = 0 + 0j\n",
    "            for i in range(I):\n",
    "                z = z**2 + c\n",
    "                if T <= abs(z):\n",
    "                    M[x, y] = i / I\n",
    "                    break\n",
    "            else:\n",
    "                M[x, y] = 1"
   ]
  },
  {
   "attachments": {},
   "cell_type": "markdown",
   "metadata": {},
   "source": [
    "### Parallel (using multiprocessing) Implementation"
   ]
  },
  {
   "cell_type": "code",
   "execution_count": 7,
   "metadata": {},
   "outputs": [],
   "source": [
    "@jit(nopython=True)\n",
    "def mandelbrot_chunk(re, im, I, T):\n",
    "    \"\"\"\n",
    "    Computes the Mandelbrot set using Numba's just-in-time (JIT) compilation in one chunk.\n",
    "\n",
    "    Parameters:\n",
    "    -----------\n",
    "    re : numpy.ndarray\n",
    "        A one-dimensional array representing the real part of the complex plane.\n",
    "    im : numpy.ndarray\n",
    "        A one-dimensional array representing the imaginary part of the complex plane.\n",
    "    I : int\n",
    "        The maximum number of iterations used to compute the Mandelbrot set.\n",
    "    T : int\n",
    "        The threshold used to determine whether a complex number is in the Mandelbrot set.\n",
    "\n",
    "    Returns:\n",
    "    --------\n",
    "    numpy.ndarray\n",
    "        A two-dimensional array used to store the result of the computation.\n",
    "    \"\"\"\n",
    "\n",
    "    M = np.zeros((im.shape[0], re.shape[0]))\n",
    "    \n",
    "    x_max, y_max = M.shape\n",
    "    \n",
    "    for x in range(x_max):\n",
    "        for y in range(y_max):\n",
    "            z = 0 + 0j\n",
    "            for i in range(I):\n",
    "                z = z**2 + re[y] + im[x] * 1j\n",
    "                if abs(z) > T:\n",
    "                    M[x, y] = i / I\n",
    "                    break\n",
    "            else:\n",
    "                M[x, y] = 1\n",
    "    \n",
    "    return M\n",
    "\n",
    "def mandelbrot_paralell(re, im, M, I, T, P=8, C=20):\n",
    "    \"\"\"\n",
    "    Computes the Mandelbrot set using a parallel algorithm.\n",
    "\n",
    "    Parameters:\n",
    "    -----------\n",
    "    re : numpy.ndarray\n",
    "        A one-dimensional array representing the real part of the complex plane.\n",
    "    im : numpy.ndarray\n",
    "        A one-dimensional array representing the imaginary part of the complex plane.\n",
    "    I : int\n",
    "        The maximum number of iterations used to compute the Mandelbrot set.\n",
    "    M : numpy.ndarray\n",
    "        A two-dimensional array used to store the output of the Mandelbrot set.\n",
    "    T : int\n",
    "        The threshold used to determine whether a complex number is in the Mandelbrot set.\n",
    "    P : int, optional\n",
    "        The number of processes used for parallel computation. Defaults to 8.\n",
    "    C : int, optional\n",
    "        The chunk size used to divide the input arrays into subarrays. Defaults to 20.\n",
    "\n",
    "    Raises:\n",
    "    -------\n",
    "    ValueError:\n",
    "        If the shape of C (`re`, `im`) and `M` do not match.\n",
    "\n",
    "    Returns:\n",
    "    --------\n",
    "    None\n",
    "    \"\"\"\n",
    "    \n",
    "    if (im.shape[0], re.shape[0]) != M.shape:\n",
    "        raise ValueError('C and M must have the same shape')\n",
    "    \n",
    "    pool = mp.Pool(processes=P)\n",
    "\n",
    "    results = [pool.apply_async(mandelbrot_chunk, args=(re[i:i+C], im, I, T)) for i in range(0, re.shape[0], C)]\n",
    "\n",
    "    pool.close()\n",
    "    pool.join()\n",
    "    \n",
    "    M[:] = np.hstack([r.get() for r in results])"
   ]
  },
  {
   "attachments": {},
   "cell_type": "markdown",
   "metadata": {},
   "source": [
    "### Dask (distributed) Implementation"
   ]
  },
  {
   "cell_type": "code",
   "execution_count": 8,
   "metadata": {},
   "outputs": [],
   "source": [
    "def mandelbrot_dask(re, im, M, I, T):\n",
    "    \"\"\"\n",
    "    Compute the Mandelbrot set using Dask for parallel computation.\n",
    "\n",
    "    Parameters:\n",
    "    -----------\n",
    "    re : numpy.ndarray\n",
    "        A one-dimensional array representing the real part of the complex plane.\n",
    "    im : numpy.ndarray\n",
    "        A one-dimensional array representing the imaginary part of the complex plane.\n",
    "    M : np.ndarray\n",
    "        A 2D array of floats to store the output of the computation.\n",
    "    I : int\n",
    "        The maximum number of iterations to use when computing the Mandelbrot set.\n",
    "    T : float\n",
    "        The threshold value for determining whether a point is part of the set.\n",
    "\n",
    "    Raises:\n",
    "    -------\n",
    "    ValueError:\n",
    "        If the shape of C (`re`, `im`) and `M` do not match.\n",
    "\n",
    "    Returns:\n",
    "    --------\n",
    "    None\n",
    "    \"\"\"\n",
    "    \n",
    "    if (im.shape[0], re.shape[0]) != M.shape:\n",
    "        raise ValueError('C and M must have the same shape')\n",
    "    \n",
    "    c = da.array(re + im[:, np.newaxis] * 1j)\n",
    "    z = da.zeros_like(c)\n",
    "    mask = da.full_like(c, True, dtype=bool)\n",
    "\n",
    "    for i in range(1, I+1):\n",
    "        z[mask] = z[mask]**2 + c[mask]\n",
    "        mask[T <= da.abs(z)] = False\n",
    "        M[mask] = i / I"
   ]
  },
  {
   "attachments": {},
   "cell_type": "markdown",
   "metadata": {},
   "source": [
    "## Unit Tests"
   ]
  },
  {
   "attachments": {},
   "cell_type": "markdown",
   "metadata": {},
   "source": [
    "Creating 3 unit tests to check the implemented mandelbrot set calculation methods.\n",
    "- Test that the function raises a ValueError if the shape of the input arrays do not match\n",
    "- Test that the output values are between 0 and 1.\n",
    "- Test that the output values of the function are correct. The correctness is determined by an naive implementation of the Mandelbrot set."
   ]
  },
  {
   "cell_type": "code",
   "execution_count": 9,
   "metadata": {},
   "outputs": [],
   "source": [
    "class MandelbrotTest(unittest.TestCase):\n",
    "    def setUp(self):\n",
    "        self.x_res = 500\n",
    "        self.y_res = 500\n",
    "        self.mandelbrot_func = mandelbrot_vectorized\n",
    "        self.accuracy = 5\n",
    "\n",
    "    def test_parameters_value_errors(self):\n",
    "        \"\"\"\n",
    "        Test that the function raises a ValueError if the shape of the input arrays do not match.\n",
    "        \"\"\"\n",
    "        re = np.linspace(X_MIN, X_MAX, self.x_res)\n",
    "        im = np.linspace(Y_MIN, Y_MAX,  self.y_res)\n",
    "        M = np.zeros((self.x_res+1, self.y_res+1))\n",
    "        \n",
    "        with self.assertRaises(ValueError):\n",
    "            self.mandelbrot_func(re, im, M, I, T)\n",
    "        \n",
    "    def test_output_values(self):\n",
    "        \"\"\"\n",
    "        Test that the output values are between 0 and 1.\n",
    "        \"\"\"\n",
    "        re = np.linspace(X_MIN, X_MAX, self.x_res)\n",
    "        im = np.linspace(Y_MIN, Y_MAX, self.y_res)\n",
    "        M = np.zeros((self.x_res, self.y_res))\n",
    "        \n",
    "        self.mandelbrot_func(re, im, M, I, T)\n",
    "        \n",
    "        self.assertTrue(np.all(M <= 1))\n",
    "        self.assertTrue(np.all(M >= 0))\n",
    "        \n",
    "    def test_value_correctness(self):     \n",
    "        \"\"\"\n",
    "        Test that the output values of the function are correct. The correctness is determined by an naive implementation of the Mandelbrot set.\n",
    "        \"\"\"   \n",
    "        re = np.linspace(X_MIN, X_MAX, self.x_res)\n",
    "        im = np.linspace(Y_MIN, Y_MAX, self.y_res)\n",
    "        M = np.zeros((self.x_res, self.y_res))\n",
    "        \n",
    "        self.mandelbrot_func(re, im, M, I, T)\n",
    "        \n",
    "        for x in range(self.x_res):\n",
    "            for y in range(self.y_res):\n",
    "                c = re[y] + im[x] * 1j\n",
    "                z = 0 + 0j\n",
    "                for i in range(I):\n",
    "                    z = z**2 + c\n",
    "                    if abs(z) > T:\n",
    "                        self.assertAlmostEqual(M[x, y], i / I, places=self.accuracy)\n",
    "                        break\n",
    "                else:\n",
    "                    self.assertAlmostEqual(M[x, y], 1.0, places=self.accuracy)"
   ]
  },
  {
   "cell_type": "code",
   "execution_count": 10,
   "metadata": {},
   "outputs": [
    {
     "name": "stderr",
     "output_type": "stream",
     "text": [
      "test_output_values (__main__.MandelbrotTest)\n",
      "Test that the output values are between 0 and 1. ... ok\n",
      "test_parameters_value_errors (__main__.MandelbrotTest)\n",
      "Test that the function raises a ValueError if the shape of the input arrays do not match. ... ok\n",
      "test_value_correctness (__main__.MandelbrotTest)\n",
      "Test that the output values of the function are correct. The correctness is determined by an naive implementation of the Mandelbrot set. ... "
     ]
    },
    {
     "name": "stdout",
     "output_type": "stream",
     "text": [
      "Tested function: mandelbrot_vectorized\n"
     ]
    },
    {
     "name": "stderr",
     "output_type": "stream",
     "text": [
      "ok\n",
      "\n",
      "----------------------------------------------------------------------\n",
      "Ran 3 tests in 3.084s\n",
      "\n",
      "OK\n"
     ]
    },
    {
     "data": {
      "text/plain": [
       "<unittest.main.TestProgram at 0x12fd84520>"
      ]
     },
     "execution_count": 10,
     "metadata": {},
     "output_type": "execute_result"
    }
   ],
   "source": [
    "print(f'Tested function: mandelbrot_vectorized')\n",
    "unittest.main(argv=[''], verbosity=2, exit=False)   "
   ]
  },
  {
   "attachments": {},
   "cell_type": "markdown",
   "metadata": {},
   "source": [
    "## OpenCL (GPU) Implementation"
   ]
  },
  {
   "cell_type": "code",
   "execution_count": 11,
   "metadata": {},
   "outputs": [
    {
     "name": "stdout",
     "output_type": "stream",
     "text": [
      "============================================================\n",
      "OpenCL Platforms and Devices\n",
      "============================================================\n",
      "Platform - Name:  Apple\n",
      "Platform - Vendor:  Apple\n",
      "Platform - Version:  OpenCL 1.2 (Mar  4 2023 12:44:59)\n",
      "Platform - Profile:  FULL_PROFILE\n",
      "    --------------------------------------------------------\n",
      "    Device - Name:  Apple M1\n",
      "    Device - Type:  ALL | GPU\n",
      "    Device - Max Clock Speed:  1000 Mhz\n",
      "    Device - Compute Units:  8\n",
      "    Device - Local Memory:  32 KB\n",
      "    Device - Constant Memory:  1048576 KB\n",
      "    Device - Global Memory: 11 GB\n",
      "    Device - Max Buffer/Image Size: 2048 MB\n",
      "    Device - Max Work Group Size: 256\n"
     ]
    }
   ],
   "source": [
    "print_opencl_devices()\n",
    "ctx = cl.create_some_context()"
   ]
  },
  {
   "cell_type": "code",
   "execution_count": 12,
   "metadata": {},
   "outputs": [],
   "source": [
    "def mandelbrot_opencl(re, im, M, I, T):\n",
    "    global ctx\n",
    "    \n",
    "    if (im.shape[0], re.shape[0]) != M.shape:\n",
    "        raise ValueError('C and M must have the same shape')\n",
    "\n",
    "    queue = cl.CommandQueue(ctx)\n",
    "    mf = cl.mem_flags\n",
    "    \n",
    "    c = re + im[:, np.newaxis] * 1j\n",
    "    c_flat = np.ravel(c).astype(np.complex64)\n",
    "    \n",
    "    M_flat = np.ravel(M).astype(np.float32)\n",
    "    \n",
    "    c_buf = cl.Buffer(ctx, mf.READ_ONLY | mf.COPY_HOST_PTR, hostbuf=c_flat)\n",
    "    M_buf = cl.Buffer(ctx, mf.WRITE_ONLY, M_flat.nbytes)\n",
    "\n",
    "    with open('mandelbrot.cl', 'r') as f:\n",
    "        mandelbrot_kernel_source = f.read()\n",
    "    \n",
    "    prg = cl.Program(ctx, mandelbrot_kernel_source).build()\n",
    "    prg.mandelbrot_kernel(queue, M_flat.shape, None, c_buf, M_buf, np.uint16(I), np.float32(T))\n",
    "\n",
    "    cl.enqueue_copy(queue, M_flat, M_buf).wait()\n",
    "    \n",
    "    M[:] = M_flat.reshape(M.shape)"
   ]
  },
  {
   "cell_type": "code",
   "execution_count": 13,
   "metadata": {},
   "outputs": [
    {
     "data": {
      "image/png": "[encoded data removed]",
      "text/plain": [
       "<Figure size 640x480 with 1 Axes>"
      ]
     },
     "metadata": {},
     "output_type": "display_data"
    }
   ],
   "source": [
    "re = np.linspace(X_MIN, X_MAX, X_RES)\n",
    "im = np.linspace(Y_MIN, Y_MAX, Y_RES)\n",
    "M = np.zeros((X_RES, Y_RES))\n",
    "\n",
    "mandelbrot_opencl(re, im, M, I, T)\n",
    "\n",
    "make_plot(M)"
   ]
  }
 ],
 "metadata": {
  "kernelspec": {
   "display_name": "base",
   "language": "python",
   "name": "python3"
  },
  "language_info": {
   "codemirror_mode": {
    "name": "ipython",
    "version": 3
   },
   "file_extension": ".py",
   "mimetype": "text/x-python",
   "name": "python",
   "nbconvert_exporter": "python",
   "pygments_lexer": "ipython3",
   "version": "3.9.13"
  },
  "orig_nbformat": 4
 },
 "nbformat": 4,
 "nbformat_minor": 2
}
