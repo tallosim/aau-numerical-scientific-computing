{
 "cells": [
  {
   "attachments": {},
   "cell_type": "markdown",
   "metadata": {},
   "source": [
    "# Mandelbrot Set - Mini Project - Stage 2\n",
    "\n",
    "Numerical Scientific Computing (CE8-AVS) - Spring 2023 - Mini Project\n",
    "\n",
    "**Author:** [Máté Tallósi](https://github.com/tallosim)\n",
    "**Date:** 2023-03-22"
   ]
  },
  {
   "cell_type": "code",
   "execution_count": 1,
   "metadata": {},
   "outputs": [],
   "source": [
    "import matplotlib.pyplot as plt\n",
    "import numpy as np\n",
    "import pandas as pd\n",
    "import multiprocessing as mp\n",
    "from numba import jit\n",
    "import time\n",
    "from tqdm import tqdm"
   ]
  },
  {
   "attachments": {},
   "cell_type": "markdown",
   "metadata": {},
   "source": [
    "## Parameter Definition\n",
    "\n",
    "The following parameters are used to define the Mandelbrot set. The parameters are defined in the following cell.\n",
    "\n",
    "The resolution of the image is defined by the `X_RES` and `Y_RES` parameters. The `X_MIN`, `X_MAX`, `Y_MIN`, and `Y_MAX` parameters define the area of the complex plane that is displayed. The `I` parameter defines the maximum number of iterations for each pixel. The `T` parameter defines the threshold value for the Mandelbrot set."
   ]
  },
  {
   "cell_type": "code",
   "execution_count": 2,
   "metadata": {},
   "outputs": [
    {
     "data": {
      "text/plain": [
       "{'divide': 'warn', 'over': 'warn', 'under': 'ignore', 'invalid': 'warn'}"
      ]
     },
     "execution_count": 2,
     "metadata": {},
     "output_type": "execute_result"
    }
   ],
   "source": [
    "X_RES = 5000\n",
    "X_MIN = -2\n",
    "X_MAX = 0.5\n",
    "Y_RES = 5000\n",
    "Y_MIN = -1.25\n",
    "Y_MAX = 1.25\n",
    "\n",
    "I = 50\n",
    "T = 2\n",
    "\n",
    "np.seterr(all='ignore')"
   ]
  },
  {
   "attachments": {},
   "cell_type": "markdown",
   "metadata": {},
   "source": [
    "### Madelbrot Set Ploting"
   ]
  },
  {
   "cell_type": "code",
   "execution_count": 3,
   "metadata": {},
   "outputs": [],
   "source": [
    "def make_plot(M, cmap='hot', save=False, filename='mandelbrot.png'):\n",
    "    plt.figure(figsize=(16, 16))\n",
    "    plt.imshow(M, cmap=cmap, aspect='equal', extent=[X_MIN, X_MAX, Y_MIN, Y_MAX])\n",
    "\n",
    "    if save:\n",
    "        plt.savefig(filename, dpi=600, bbox_inches='tight', pad_inches=0)"
   ]
  },
  {
   "attachments": {},
   "cell_type": "markdown",
   "metadata": {},
   "source": [
    "## Datatype Optimization"
   ]
  },
  {
   "attachments": {},
   "cell_type": "markdown",
   "metadata": {},
   "source": [
    "### Naive (loops) Implementation"
   ]
  },
  {
   "cell_type": "code",
   "execution_count": 4,
   "metadata": {},
   "outputs": [],
   "source": [
    "def mandelbrot_naive(re, im, M, I, T):\n",
    "    if (im.shape[0], re.shape[0]) != M.shape:\n",
    "        raise ValueError('C and M must have the same shape')\n",
    "    \n",
    "    x_max, y_max = M.shape\n",
    "    \n",
    "    for x in range(x_max):\n",
    "        for y in range(y_max):\n",
    "            z = 0 + 0j\n",
    "            for i in range(I):\n",
    "                z = z**2 + re[y] + im[x] * 1j\n",
    "                if T <= abs(z):\n",
    "                    M[x, y] = i / I\n",
    "                    break\n",
    "            else:\n",
    "                M[x, y] = 1"
   ]
  },
  {
   "attachments": {},
   "cell_type": "markdown",
   "metadata": {},
   "source": [
    "### Numpy (vectorized) Implementation"
   ]
  },
  {
   "cell_type": "code",
   "execution_count": 5,
   "metadata": {},
   "outputs": [],
   "source": [
    "def mandelbrot_vectorized(re, im, M, I, T):\n",
    "    if (im.shape[0], re.shape[0]) != M.shape:\n",
    "        raise ValueError('C and M must have the same shape')\n",
    "    \n",
    "    c = re + im[:, np.newaxis] * 1j\n",
    "    z = np.zeros_like(c)\n",
    "\n",
    "    for i in range(I):\n",
    "        z = z**2 + c\n",
    "        M[T <= abs(z)] = i / I\n",
    "        \n",
    "    M[M == 0] = 1"
   ]
  },
  {
   "attachments": {},
   "cell_type": "markdown",
   "metadata": {},
   "source": [
    "### Numba (optimized) Implementation"
   ]
  },
  {
   "cell_type": "code",
   "execution_count": 6,
   "metadata": {},
   "outputs": [],
   "source": [
    "@jit(nopython=True)\n",
    "def mandelbrot_numba(re, im, M, I, T):\n",
    "    if (im.shape[0], re.shape[0]) != M.shape:\n",
    "        raise ValueError('C and M must have the same shape')\n",
    "    \n",
    "    x_max, y_max = M.shape\n",
    "    \n",
    "    for x in range(x_max):\n",
    "        for y in range(y_max):\n",
    "            z = 0 + 0j\n",
    "            for i in range(I):\n",
    "                z = z**2 + re[y] + im[x] * 1j\n",
    "                if T <= abs(z):\n",
    "                    M[x, y] = i / I\n",
    "                    break\n",
    "            else:\n",
    "                M[x, y] = 1"
   ]
  },
  {
   "attachments": {},
   "cell_type": "markdown",
   "metadata": {},
   "source": [
    "### Parallel (using multiprocessing) Implementation"
   ]
  },
  {
   "cell_type": "code",
   "execution_count": 7,
   "metadata": {},
   "outputs": [],
   "source": [
    "@jit(nopython=True)\n",
    "def mandelbrot_chunk(re, im, I, T):\n",
    "    M = np.zeros((im.shape[0], re.shape[0]))\n",
    "    \n",
    "    x_max, y_max = M.shape\n",
    "    \n",
    "    for x in range(x_max):\n",
    "        for y in range(y_max):\n",
    "            z = 0 + 0j\n",
    "            for i in range(I):\n",
    "                z = z**2 + re[y] + im[x] * 1j\n",
    "                if abs(z) > T:\n",
    "                    M[x, y] = i\n",
    "                    break\n",
    "            else:\n",
    "                M[x, y] = I\n",
    "    \n",
    "    return M\n",
    "\n",
    "def mandelbrot_paralell(re, im, I, T, P=8, C=20):\n",
    "    pool = mp.Pool(processes=P)\n",
    "\n",
    "    results = [pool.apply_async(mandelbrot_chunk, args=(re[i:i+C], im, I, T)) for i in range(0, re.shape[0], C)]\n",
    "\n",
    "    pool.close()\n",
    "    pool.join()\n",
    "\n",
    "    return results"
   ]
  },
  {
   "attachments": {},
   "cell_type": "markdown",
   "metadata": {},
   "source": [
    "### Default datatypes"
   ]
  },
  {
   "cell_type": "code",
   "execution_count": 8,
   "metadata": {},
   "outputs": [
    {
     "name": "stdout",
     "output_type": "stream",
     "text": [
      "Default data type of `re` and `im`: float64, float64\n"
     ]
    }
   ],
   "source": [
    "re = np.linspace(X_MIN, X_MAX, X_RES)\n",
    "im = np.linspace(Y_MIN, Y_MAX, Y_RES)\n",
    "\n",
    "print(f'Default data type of `re` and `im`: {re.dtype}, {im.dtype}')"
   ]
  },
  {
   "attachments": {},
   "cell_type": "markdown",
   "metadata": {},
   "source": [
    "### Running time comparison"
   ]
  },
  {
   "cell_type": "code",
   "execution_count": 9,
   "metadata": {},
   "outputs": [
    {
     "data": {
      "text/html": [
       "<div>\n",
       "<style scoped>\n",
       "    .dataframe tbody tr th:only-of-type {\n",
       "        vertical-align: middle;\n",
       "    }\n",
       "\n",
       "    .dataframe tbody tr th {\n",
       "        vertical-align: top;\n",
       "    }\n",
       "\n",
       "    .dataframe thead th {\n",
       "        text-align: right;\n",
       "    }\n",
       "</style>\n",
       "<table border=\"1\" class=\"dataframe\">\n",
       "  <thead>\n",
       "    <tr style=\"text-align: right;\">\n",
       "      <th></th>\n",
       "      <th>Implementation</th>\n",
       "      <th>Float Datatype</th>\n",
       "      <th>Time</th>\n",
       "    </tr>\n",
       "  </thead>\n",
       "  <tbody>\n",
       "    <tr>\n",
       "      <th>0</th>\n",
       "      <td>mandelbrot_naive</td>\n",
       "      <td>float</td>\n",
       "      <td>901.334065</td>\n",
       "    </tr>\n",
       "    <tr>\n",
       "      <th>1</th>\n",
       "      <td>mandelbrot_vectorized</td>\n",
       "      <td>float</td>\n",
       "      <td>14.536290</td>\n",
       "    </tr>\n",
       "    <tr>\n",
       "      <th>2</th>\n",
       "      <td>mandelbrot_numba</td>\n",
       "      <td>float</td>\n",
       "      <td>3.400419</td>\n",
       "    </tr>\n",
       "    <tr>\n",
       "      <th>3</th>\n",
       "      <td>mandelbrot_paralell</td>\n",
       "      <td>float</td>\n",
       "      <td>120.777780</td>\n",
       "    </tr>\n",
       "    <tr>\n",
       "      <th>4</th>\n",
       "      <td>mandelbrot_naive</td>\n",
       "      <td>float16</td>\n",
       "      <td>981.477006</td>\n",
       "    </tr>\n",
       "    <tr>\n",
       "      <th>5</th>\n",
       "      <td>mandelbrot_vectorized</td>\n",
       "      <td>float16</td>\n",
       "      <td>9.424147</td>\n",
       "    </tr>\n",
       "    <tr>\n",
       "      <th>6</th>\n",
       "      <td>mandelbrot_numba</td>\n",
       "      <td>float16</td>\n",
       "      <td>NaN</td>\n",
       "    </tr>\n",
       "    <tr>\n",
       "      <th>7</th>\n",
       "      <td>mandelbrot_paralell</td>\n",
       "      <td>float16</td>\n",
       "      <td>NaN</td>\n",
       "    </tr>\n",
       "    <tr>\n",
       "      <th>8</th>\n",
       "      <td>mandelbrot_naive</td>\n",
       "      <td>float32</td>\n",
       "      <td>934.799615</td>\n",
       "    </tr>\n",
       "    <tr>\n",
       "      <th>9</th>\n",
       "      <td>mandelbrot_vectorized</td>\n",
       "      <td>float32</td>\n",
       "      <td>9.615335</td>\n",
       "    </tr>\n",
       "    <tr>\n",
       "      <th>10</th>\n",
       "      <td>mandelbrot_numba</td>\n",
       "      <td>float32</td>\n",
       "      <td>3.331661</td>\n",
       "    </tr>\n",
       "    <tr>\n",
       "      <th>11</th>\n",
       "      <td>mandelbrot_paralell</td>\n",
       "      <td>float32</td>\n",
       "      <td>126.916714</td>\n",
       "    </tr>\n",
       "    <tr>\n",
       "      <th>12</th>\n",
       "      <td>mandelbrot_naive</td>\n",
       "      <td>float64</td>\n",
       "      <td>902.734984</td>\n",
       "    </tr>\n",
       "    <tr>\n",
       "      <th>13</th>\n",
       "      <td>mandelbrot_vectorized</td>\n",
       "      <td>float64</td>\n",
       "      <td>23.770997</td>\n",
       "    </tr>\n",
       "    <tr>\n",
       "      <th>14</th>\n",
       "      <td>mandelbrot_numba</td>\n",
       "      <td>float64</td>\n",
       "      <td>4.173715</td>\n",
       "    </tr>\n",
       "    <tr>\n",
       "      <th>15</th>\n",
       "      <td>mandelbrot_paralell</td>\n",
       "      <td>float64</td>\n",
       "      <td>133.227119</td>\n",
       "    </tr>\n",
       "  </tbody>\n",
       "</table>\n",
       "</div>"
      ],
      "text/plain": [
       "           Implementation Float Datatype        Time\n",
       "0        mandelbrot_naive          float  901.334065\n",
       "1   mandelbrot_vectorized          float   14.536290\n",
       "2        mandelbrot_numba          float    3.400419\n",
       "3     mandelbrot_paralell          float  120.777780\n",
       "4        mandelbrot_naive        float16  981.477006\n",
       "5   mandelbrot_vectorized        float16    9.424147\n",
       "6        mandelbrot_numba        float16         NaN\n",
       "7     mandelbrot_paralell        float16         NaN\n",
       "8        mandelbrot_naive        float32  934.799615\n",
       "9   mandelbrot_vectorized        float32    9.615335\n",
       "10       mandelbrot_numba        float32    3.331661\n",
       "11    mandelbrot_paralell        float32  126.916714\n",
       "12       mandelbrot_naive        float64  902.734984\n",
       "13  mandelbrot_vectorized        float64   23.770997\n",
       "14       mandelbrot_numba        float64    4.173715\n",
       "15    mandelbrot_paralell        float64  133.227119"
      ]
     },
     "execution_count": 9,
     "metadata": {},
     "output_type": "execute_result"
    }
   ],
   "source": [
    "float_datatypes = [float, np.float16, np.float32, np.float64]\n",
    "implementations = [mandelbrot_naive, mandelbrot_vectorized, mandelbrot_numba, mandelbrot_paralell]\n",
    "\n",
    "results = list()\n",
    "\n",
    "for float_datatype in float_datatypes:\n",
    "    for implementation in implementations:\n",
    "        # Skip numba and paralell implementation with float16\n",
    "        # because numba does not support float16\n",
    "        if float_datatype.__name__ == 'float16':\n",
    "            if implementation.__name__ == 'mandelbrot_numba' or \\\n",
    "                implementation.__name__ == 'mandelbrot_paralell':\n",
    "                results.append((implementation.__name__, float_datatype.__name__, np.nan))\n",
    "                continue\n",
    "        \n",
    "        M = np.zeros((X_RES, Y_RES))\n",
    "        \n",
    "        re = np.linspace(X_MIN, X_MAX, X_RES, dtype=float_datatype)\n",
    "        im = np.linspace(Y_MIN, Y_MAX, Y_RES, dtype=float_datatype)\n",
    "        \n",
    "        time_start = time.time()\n",
    "        implementation(re, im, M, I, T)\n",
    "        time_delta = time.time() - time_start\n",
    "        \n",
    "        results.append((implementation.__name__, float_datatype.__name__, time_delta))\n",
    "        \n",
    "results = pd.DataFrame(results, columns=['Implementation', 'Float Datatype', 'Time'])\n",
    "results.to_csv(f'madelbrot-datatypes-{X_RES}x{Y_RES}-results.csv', index=False)\n",
    "results"
   ]
  },
  {
   "cell_type": "code",
   "execution_count": 10,
   "metadata": {},
   "outputs": [
    {
     "data": {
      "text/plain": [
       "<Figure size 4800x4800 with 0 Axes>"
      ]
     },
     "metadata": {},
     "output_type": "display_data"
    },
    {
     "data": {
      "image/png": "[encoded data removed]",
      "text/plain": [
       "<Figure size 480x480 with 2 Axes>"
      ]
     },
     "metadata": {},
     "output_type": "display_data"
    }
   ],
   "source": [
    "matrix = results.pivot(index='Implementation', columns='Float Datatype', values='Time')\n",
    "\n",
    "fig = plt.figure(figsize=(16, 16), facecolor='w', edgecolor='k', dpi=300)\n",
    "\n",
    "plt.matshow(matrix, cmap='Greens')\n",
    "plt.xticks(range(len(matrix.columns)), matrix.columns)\n",
    "plt.yticks(range(len(matrix.index)), matrix.index)\n",
    "plt.xlabel('Float Datatype')\n",
    "plt.ylabel('Implementation')\n",
    "plt.colorbar(shrink=0.8, pad=0.05)\n",
    "plt.title(f'Mandelbrot Set Calculation Time for {X_RES}x{Y_RES} Matrix')\n",
    "\n",
    "for (i, j), z in np.ndenumerate(matrix):\n",
    "    plt.text(j, i, '{:0.2f}'.format(z), ha='center', va='center')\n",
    "\n",
    "plt.show()"
   ]
  },
  {
   "attachments": {},
   "cell_type": "markdown",
   "metadata": {},
   "source": [
    "## Dask (distributed) Implementation of the Mandelbrot Set"
   ]
  },
  {
   "cell_type": "code",
   "execution_count": null,
   "metadata": {},
   "outputs": [],
   "source": []
  }
 ],
 "metadata": {
  "kernelspec": {
   "display_name": "base",
   "language": "python",
   "name": "python3"
  },
  "language_info": {
   "codemirror_mode": {
    "name": "ipython",
    "version": 3
   },
   "file_extension": ".py",
   "mimetype": "text/x-python",
   "name": "python",
   "nbconvert_exporter": "python",
   "pygments_lexer": "ipython3",
   "version": "3.9.13"
  },
  "orig_nbformat": 4
 },
 "nbformat": 4,
 "nbformat_minor": 2
}
