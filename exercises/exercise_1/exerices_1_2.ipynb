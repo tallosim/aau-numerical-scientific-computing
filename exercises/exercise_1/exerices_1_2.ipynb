{
 "cells": [
  {
   "attachments": {},
   "cell_type": "markdown",
   "metadata": {},
   "source": [
    "## Part A - theoretical:\n",
    "\n",
    "- We have 6 elements stored contiguous in memory in the order: 1, 2, 3, 4, 5, 6.  In the following, we read this contiguous data into arrays in different ways.  What do the arrays look like if we read the data as:\n",
    "  1. a 2x3 matrix treating data as column-major (Fortran style) as F2x3?\n",
    "  2. a 3x2 matrix treating data as column-major (Fortran style) as F3x2?\n",
    "  3. a 2x3 matrix treating data as row-major (C style) as C2x3?\n",
    "  4. a 3x2 matrix treating data as row-major (C style) as C3x2?\n",
    "- Explain the relations between the different matrices and how this may be utilized."
   ]
  },
  {
   "attachments": {},
   "cell_type": "markdown",
   "metadata": {},
   "source": [
    "1. a 2x3 matrix treating data as column-major (Fortran style) as F2x3?\n",
    "   ```\n",
    "   F_23 = [1    3    5]\n",
    "          [2    4    6]\n",
    "   ```\n",
    "2. a 3x2 matrix treating data as column-major (Fortran style) as F3x2?\n",
    "   ```\n",
    "           [1    4]\n",
    "    F_32 = [2    5]\n",
    "           [3    6]\n",
    "   ```\n",
    "3. a 2x3 matrix treating data as row-major (C style) as C2x3?\n",
    "   ```\n",
    "    C_23 = [1    2    3]\n",
    "           [4    5    6]\n",
    "    ```\n",
    "4. a 3x2 matrix treating data as row-major (C style) as C3x2?\n",
    "   ```\n",
    "           [1    2]\n",
    "    C_32 = [3    4]\n",
    "           [5    6]\n",
    "    ```"
   ]
  },
  {
   "attachments": {},
   "cell_type": "markdown",
   "metadata": {},
   "source": [
    "## Part B - practical:"
   ]
  },
  {
   "attachments": {},
   "cell_type": "markdown",
   "metadata": {},
   "source": [
    "- Generate a random vector X with dimension N x M and another vector Y with opposite dimensions M x N, where N >> M, e.g. N = 100.000, M = 100.\n",
    "- Make a program with two functions: one that loops over each row and calculates the row-sum (using numpy.sum()) and one that does the same, but loops over each column.\n",
    "- Measure execution speed for each orientation for each for the two vectors.\n",
    "- Do these results match your expectation given the memory layout difference between Fortran (Matlab) and C (Python)?\n",
    "- In Python: if this was implemented with a 2D list, you will probably not see a big difference. Why not?\n",
    "- Extra info: In Python Numpy you can specify the memory layout for an array explicitly using the keyword order=‘C’ or order=‘F’."
   ]
  },
  {
   "cell_type": "code",
   "execution_count": 1,
   "metadata": {},
   "outputs": [],
   "source": [
    "import numpy as np"
   ]
  },
  {
   "cell_type": "code",
   "execution_count": 2,
   "metadata": {},
   "outputs": [],
   "source": [
    "N = 100000\n",
    "M = 100\n",
    "\n",
    "def calc_sum(x, axis=0):\n",
    "    y = 0\n",
    "    for i in range(x.shape[axis]):\n",
    "        if axis == 0:\n",
    "            y += np.sum(x[i, :])\n",
    "        elif axis == 1:\n",
    "            y += np.sum(x[:, i])\n",
    "        else:\n",
    "            raise ValueError('axis must be 0 or 1')\n",
    "    return y"
   ]
  },
  {
   "cell_type": "code",
   "execution_count": 3,
   "metadata": {},
   "outputs": [
    {
     "name": "stdout",
     "output_type": "stream",
     "text": [
      "20.7 ms ± 1.45 ms per loop (mean ± std. dev. of 7 runs, 10 loops each)\n"
     ]
    }
   ],
   "source": [
    "# Fortran layout - summing up column-wise:\n",
    "x = np.array(np.random.rand(M, N), order='F')\n",
    "%timeit calc_sum(x, axis=0)"
   ]
  },
  {
   "cell_type": "code",
   "execution_count": 4,
   "metadata": {},
   "outputs": [
    {
     "name": "stdout",
     "output_type": "stream",
     "text": [
      "4.17 ms ± 541 µs per loop (mean ± std. dev. of 7 runs, 100 loops each)\n"
     ]
    }
   ],
   "source": [
    "# C-style layout - summing up column-wise:\n",
    "x = np.array(np.random.rand(M, N), order='C')\n",
    "%timeit calc_sum(x, axis=0)"
   ]
  },
  {
   "cell_type": "code",
   "execution_count": 5,
   "metadata": {},
   "outputs": [
    {
     "name": "stdout",
     "output_type": "stream",
     "text": [
      "269 ms ± 16.7 ms per loop (mean ± std. dev. of 7 runs, 1 loop each)\n"
     ]
    }
   ],
   "source": [
    "# Fortran layout - summing up row-wise:\n",
    "x = np.array(np.random.rand(M, N), order='F')\n",
    "%timeit calc_sum(x, axis=1)"
   ]
  },
  {
   "cell_type": "code",
   "execution_count": 6,
   "metadata": {},
   "outputs": [
    {
     "name": "stdout",
     "output_type": "stream",
     "text": [
      "278 ms ± 4.04 ms per loop (mean ± std. dev. of 7 runs, 1 loop each)\n"
     ]
    }
   ],
   "source": [
    "# C-style layout - summing up row-wise:\n",
    "x = np.array(np.random.rand(M, N), order='C')\n",
    "%timeit calc_sum(x, axis=1)"
   ]
  }
 ],
 "metadata": {
  "kernelspec": {
   "display_name": "base",
   "language": "python",
   "name": "python3"
  },
  "language_info": {
   "codemirror_mode": {
    "name": "ipython",
    "version": 3
   },
   "file_extension": ".py",
   "mimetype": "text/x-python",
   "name": "python",
   "nbconvert_exporter": "python",
   "pygments_lexer": "ipython3",
   "version": "3.9.12"
  },
  "orig_nbformat": 4,
  "vscode": {
   "interpreter": {
    "hash": "d3f4908ea2d3c64182028bdc221ef523ef87b6680b6b9be305fccec382302126"
   }
  }
 },
 "nbformat": 4,
 "nbformat_minor": 2
}
