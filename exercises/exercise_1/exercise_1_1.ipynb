{
 "cells": [
  {
   "cell_type": "code",
   "execution_count": 1,
   "metadata": {},
   "outputs": [],
   "source": [
    "import numpy as np\n",
    "import random as rnd"
   ]
  },
  {
   "attachments": {},
   "cell_type": "markdown",
   "metadata": {},
   "source": [
    "### Create a vector X of N random numbers, where N is in the order of 1e6 to 1e8 (depending on the speed of your computer)."
   ]
  },
  {
   "cell_type": "code",
   "execution_count": 2,
   "metadata": {},
   "outputs": [],
   "source": [
    "N = 1000000\n",
    "\n",
    "x_list = [rnd.normalvariate(0, 1) for i in range(N)]\n",
    "x_np = np.array(x_list)"
   ]
  },
  {
   "attachments": {},
   "cell_type": "markdown",
   "metadata": {},
   "source": [
    "### Create the following implementations to calculate the difference between the consecutive elements in X: (resulting in a vector Y with N-1 elements)"
   ]
  },
  {
   "attachments": {},
   "cell_type": "markdown",
   "metadata": {},
   "source": [
    "#### 1. Use a regular for loop and calculate the difference as Y(i) = X(i+1) - X(i), where X and Y are implemented as python lists."
   ]
  },
  {
   "cell_type": "code",
   "execution_count": 3,
   "metadata": {},
   "outputs": [
    {
     "name": "stdout",
     "output_type": "stream",
     "text": [
      "137 ms ± 3.71 ms per loop (mean ± std. dev. of 7 runs, 10 loops each)\n"
     ]
    }
   ],
   "source": [
    "def naive_diff(x):\n",
    "    y = []\n",
    "    for i in range(1, len(x)):\n",
    "        y.append(x[i] - x[i-1])\n",
    "    return y\n",
    "\n",
    "%timeit naive_diff(x_list)"
   ]
  },
  {
   "attachments": {},
   "cell_type": "markdown",
   "metadata": {},
   "source": [
    "#### 2. Extend the above program with intermediate variables (e.g. x_next and x_now) to store the X(i+1) value for the next iteration."
   ]
  },
  {
   "cell_type": "code",
   "execution_count": 4,
   "metadata": {},
   "outputs": [
    {
     "name": "stdout",
     "output_type": "stream",
     "text": [
      "113 ms ± 3.74 ms per loop (mean ± std. dev. of 7 runs, 10 loops each)\n"
     ]
    }
   ],
   "source": [
    "def naive_diff_iter(x):\n",
    "    y = []\n",
    "    x_now = x[0]\n",
    "    for i in range(1, len(x)):\n",
    "        x_next = x[i]\n",
    "        y.append(x_next - x_now)\n",
    "        x_now = x_next\n",
    "    return y\n",
    "\n",
    "%timeit naive_diff_iter(x_list)"
   ]
  },
  {
   "attachments": {},
   "cell_type": "markdown",
   "metadata": {},
   "source": [
    "#### 3. Same as 1, but store X and Y as numpy arrays."
   ]
  },
  {
   "cell_type": "code",
   "execution_count": 5,
   "metadata": {},
   "outputs": [
    {
     "name": "stdout",
     "output_type": "stream",
     "text": [
      "322 ms ± 72.9 ms per loop (mean ± std. dev. of 7 runs, 1 loop each)\n"
     ]
    }
   ],
   "source": [
    "def naive_numpy_diff(x):\n",
    "    y = np.zeros(len(x)-1)\n",
    "    for i in range(1, len(x)):\n",
    "        y[i-1] = x[i] - x[i-1]\n",
    "    return y\n",
    "\n",
    "%timeit naive_numpy_diff(x_np)"
   ]
  },
  {
   "attachments": {},
   "cell_type": "markdown",
   "metadata": {},
   "source": [
    "#### 4. Same as 1, but store X and Y as numpy arrays."
   ]
  },
  {
   "cell_type": "code",
   "execution_count": 6,
   "metadata": {},
   "outputs": [
    {
     "name": "stdout",
     "output_type": "stream",
     "text": [
      "200 ms ± 1.28 ms per loop (mean ± std. dev. of 7 runs, 1 loop each)\n"
     ]
    }
   ],
   "source": [
    "def naive_numpy_diff_iter(x):\n",
    "    y = np.zeros(len(x)-1)\n",
    "    x_now = x[0]\n",
    "    for i in range(1, len(x)):\n",
    "        x_next = x[i]\n",
    "        y[i-1] = x_next - x_now\n",
    "        x_now = x_next\n",
    "    return y\n",
    "\n",
    "%timeit naive_numpy_diff_iter(x_np)"
   ]
  },
  {
   "attachments": {},
   "cell_type": "markdown",
   "metadata": {},
   "source": [
    "#### 5. Use a diff-function to compute the result thereby exploiting vector computation (wide registers) - in Python this function is \"numpy.diff\"."
   ]
  },
  {
   "cell_type": "code",
   "execution_count": 7,
   "metadata": {},
   "outputs": [
    {
     "name": "stdout",
     "output_type": "stream",
     "text": [
      "886 µs ± 20.4 µs per loop (mean ± std. dev. of 7 runs, 1,000 loops each)\n"
     ]
    }
   ],
   "source": [
    "def numpy_diff(x):\n",
    "    return np.diff(x)\n",
    "\n",
    "%timeit numpy_diff(x_np)"
   ]
  }
 ],
 "metadata": {
  "kernelspec": {
   "display_name": "base",
   "language": "python",
   "name": "python3"
  },
  "language_info": {
   "codemirror_mode": {
    "name": "ipython",
    "version": 3
   },
   "file_extension": ".py",
   "mimetype": "text/x-python",
   "name": "python",
   "nbconvert_exporter": "python",
   "pygments_lexer": "ipython3",
   "version": "3.9.12"
  },
  "orig_nbformat": 4,
  "vscode": {
   "interpreter": {
    "hash": "d3f4908ea2d3c64182028bdc221ef523ef87b6680b6b9be305fccec382302126"
   }
  }
 },
 "nbformat": 4,
 "nbformat_minor": 2
}
