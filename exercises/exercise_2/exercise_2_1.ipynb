{
 "cells": [
  {
   "cell_type": "code",
   "execution_count": 1,
   "metadata": {},
   "outputs": [],
   "source": [
    "import numpy as np\n",
    "from numba import jit"
   ]
  },
  {
   "cell_type": "code",
   "execution_count": 2,
   "metadata": {},
   "outputs": [],
   "source": [
    "N = 1000000\n",
    "\n",
    "a = np.random.rand(N)\n",
    "b = np.random.rand(N)"
   ]
  },
  {
   "attachments": {},
   "cell_type": "markdown",
   "metadata": {},
   "source": [
    "# Without using Numba"
   ]
  },
  {
   "attachments": {},
   "cell_type": "markdown",
   "metadata": {},
   "source": [
    "## Normal for loop"
   ]
  },
  {
   "cell_type": "code",
   "execution_count": 3,
   "metadata": {},
   "outputs": [
    {
     "name": "stdout",
     "output_type": "stream",
     "text": [
      "141 ms ± 2.5 ms per loop (mean ± std. dev. of 7 runs, 10 loops each)\n"
     ]
    }
   ],
   "source": [
    "def normal_for_dot(a, b):\n",
    "    sum = 0\n",
    "    \n",
    "    for i in range(N):\n",
    "        sum += a[i] * b[i]\n",
    "    \n",
    "    return sum\n",
    "\n",
    "%timeit normal_for_dot(a, b)"
   ]
  },
  {
   "attachments": {},
   "cell_type": "markdown",
   "metadata": {},
   "source": [
    "## Normal while loop"
   ]
  },
  {
   "cell_type": "code",
   "execution_count": 4,
   "metadata": {},
   "outputs": [
    {
     "name": "stdout",
     "output_type": "stream",
     "text": [
      "169 ms ± 1.4 ms per loop (mean ± std. dev. of 7 runs, 10 loops each)\n"
     ]
    }
   ],
   "source": [
    "def normal_while_dot(a, b):\n",
    "    i = 0\n",
    "    sum = 0\n",
    "    \n",
    "    while i < N:\n",
    "        sum += a[i] * b[i]\n",
    "        \n",
    "        i += 1\n",
    "    \n",
    "    return sum\n",
    "\n",
    "%timeit normal_while_dot(a, b)"
   ]
  },
  {
   "attachments": {},
   "cell_type": "markdown",
   "metadata": {},
   "source": [
    "## While loop with 2-step unrolling (single sum)"
   ]
  },
  {
   "cell_type": "code",
   "execution_count": 5,
   "metadata": {},
   "outputs": [
    {
     "name": "stdout",
     "output_type": "stream",
     "text": [
      "224 ms ± 4.97 ms per loop (mean ± std. dev. of 7 runs, 1 loop each)\n"
     ]
    }
   ],
   "source": [
    "def step_2_while_dot(a, b):\n",
    "    i = 0\n",
    "    sum = 0\n",
    "\n",
    "    while i < N // 2:\n",
    "        sum += a[2 * i + 0] * b[2 * i + 0]\n",
    "        sum += a[2 * i + 1] * b[2 * i + 1]\n",
    "\n",
    "        i += 1\n",
    "\n",
    "    return sum\n",
    "\n",
    "%timeit step_2_while_dot(a, b)"
   ]
  },
  {
   "attachments": {},
   "cell_type": "markdown",
   "metadata": {},
   "source": [
    "## While loop with 2-step unrolling (multiple sum)"
   ]
  },
  {
   "cell_type": "code",
   "execution_count": 6,
   "metadata": {},
   "outputs": [
    {
     "name": "stdout",
     "output_type": "stream",
     "text": [
      "217 ms ± 1.36 ms per loop (mean ± std. dev. of 7 runs, 1 loop each)\n"
     ]
    }
   ],
   "source": [
    "def step_2_while_dot(a, b):\n",
    "    i = 0\n",
    "    sum0 = 0\n",
    "    sum1 = 0\n",
    "\n",
    "    while i < N // 2:\n",
    "        sum0 += a[2 * i + 0] * b[2 * i + 0]\n",
    "        sum1 += a[2 * i + 1] * b[2 * i + 1]\n",
    "\n",
    "        i += 1\n",
    "\n",
    "    return sum0 + sum1\n",
    "\n",
    "%timeit step_2_while_dot(a, b)"
   ]
  },
  {
   "attachments": {},
   "cell_type": "markdown",
   "metadata": {},
   "source": [
    "## While loop with 4-step unrolling (single sum)"
   ]
  },
  {
   "cell_type": "code",
   "execution_count": 7,
   "metadata": {},
   "outputs": [
    {
     "name": "stdout",
     "output_type": "stream",
     "text": [
      "202 ms ± 1.26 ms per loop (mean ± std. dev. of 7 runs, 1 loop each)\n"
     ]
    }
   ],
   "source": [
    "def step_4_while_dot(a, b):\n",
    "    i = 0\n",
    "    sum = 0\n",
    "\n",
    "    while i < N // 4:\n",
    "        sum += a[4 * i + 0] * b[4 * i + 0]\n",
    "        sum += a[4 * i + 1] * b[4 * i + 1]\n",
    "        sum += a[4 * i + 2] * b[4 * i + 2]\n",
    "        sum += a[4 * i + 3] * b[4 * i + 3]\n",
    "\n",
    "        i += 1\n",
    "\n",
    "    return sum\n",
    "\n",
    "%timeit step_4_while_dot(a, b)"
   ]
  },
  {
   "attachments": {},
   "cell_type": "markdown",
   "metadata": {},
   "source": [
    "## While loop with 4-step unrolling (multiple sum)"
   ]
  },
  {
   "cell_type": "code",
   "execution_count": 8,
   "metadata": {},
   "outputs": [
    {
     "name": "stdout",
     "output_type": "stream",
     "text": [
      "199 ms ± 1.22 ms per loop (mean ± std. dev. of 7 runs, 1 loop each)\n"
     ]
    }
   ],
   "source": [
    "def step_4_while_dot(a, b):\n",
    "    i = 0\n",
    "    sum0 = 0\n",
    "    sum1 = 0\n",
    "    sum2 = 0\n",
    "    sum3 = 0\n",
    "    \n",
    "    while i < N // 4:\n",
    "        sum0 += a[4 * i + 0] * b[4 * i + 0]\n",
    "        sum1 += a[4 * i + 1] * b[4 * i + 1]\n",
    "        sum2 += a[4 * i + 2] * b[4 * i + 2]\n",
    "        sum3 += a[4 * i + 3] * b[4 * i + 3]\n",
    "\n",
    "        i += 1\n",
    "\n",
    "    return sum0 + sum1 + sum2 + sum3\n",
    "\n",
    "%timeit step_4_while_dot(a, b)"
   ]
  },
  {
   "attachments": {},
   "cell_type": "markdown",
   "metadata": {},
   "source": [
    "## While loop with 8-step unrolling (single sum)"
   ]
  },
  {
   "cell_type": "code",
   "execution_count": 9,
   "metadata": {},
   "outputs": [
    {
     "name": "stdout",
     "output_type": "stream",
     "text": [
      "196 ms ± 781 µs per loop (mean ± std. dev. of 7 runs, 10 loops each)\n"
     ]
    }
   ],
   "source": [
    "def step_8_while_dot(a, b):\n",
    "    i = 0\n",
    "    sum = 0\n",
    "\n",
    "    while i < N // 8:\n",
    "        sum += a[8 * i + 0] * b[8 * i + 0]\n",
    "        sum += a[8 * i + 1] * b[8 * i + 1]\n",
    "        sum += a[8 * i + 2] * b[8 * i + 2]\n",
    "        sum += a[8 * i + 3] * b[8 * i + 3]\n",
    "        sum += a[8 * i + 4] * b[8 * i + 4]\n",
    "        sum += a[8 * i + 5] * b[8 * i + 5]\n",
    "        sum += a[8 * i + 6] * b[8 * i + 6]\n",
    "        sum += a[8 * i + 7] * b[8 * i + 7]\n",
    "\n",
    "        i += 1\n",
    "\n",
    "    return sum\n",
    "\n",
    "%timeit step_8_while_dot(a, b)"
   ]
  },
  {
   "attachments": {},
   "cell_type": "markdown",
   "metadata": {},
   "source": [
    "## While loop with 2-step unrolling (multiple sum)"
   ]
  },
  {
   "cell_type": "code",
   "execution_count": 10,
   "metadata": {},
   "outputs": [
    {
     "name": "stdout",
     "output_type": "stream",
     "text": [
      "197 ms ± 422 µs per loop (mean ± std. dev. of 7 runs, 10 loops each)\n"
     ]
    }
   ],
   "source": [
    "def step_8_while_dot(a, b):\n",
    "    i = 0\n",
    "    sum0 = 0\n",
    "    sum1 = 0\n",
    "    sum2 = 0\n",
    "    sum3 = 0\n",
    "    sum4 = 0\n",
    "    sum5 = 0\n",
    "    sum6 = 0\n",
    "    sum7 = 0\n",
    "\n",
    "    while i < N // 8:\n",
    "        sum0 += a[8 * i + 0] * b[8 * i + 0]\n",
    "        sum1 += a[8 * i + 1] * b[8 * i + 1]\n",
    "        sum2 += a[8 * i + 2] * b[8 * i + 2]\n",
    "        sum3 += a[8 * i + 3] * b[8 * i + 3]\n",
    "        sum4 += a[8 * i + 4] * b[8 * i + 4]\n",
    "        sum5 += a[8 * i + 5] * b[8 * i + 5]\n",
    "        sum6 += a[8 * i + 6] * b[8 * i + 6]\n",
    "        sum7 += a[8 * i + 7] * b[8 * i + 7]\n",
    "\n",
    "        i += 1\n",
    "\n",
    "    return sum0 + sum1 + sum2 + sum3 + sum4 + sum5 + sum6 + sum7\n",
    "\n",
    "%timeit step_8_while_dot(a, b)"
   ]
  },
  {
   "attachments": {},
   "cell_type": "markdown",
   "metadata": {},
   "source": [
    "## Numpy dot product"
   ]
  },
  {
   "cell_type": "code",
   "execution_count": 11,
   "metadata": {},
   "outputs": [
    {
     "name": "stdout",
     "output_type": "stream",
     "text": [
      "515 µs ± 5.63 µs per loop (mean ± std. dev. of 7 runs, 1,000 loops each)\n"
     ]
    }
   ],
   "source": [
    "def numpy_dot(a, b):\n",
    "    return np.dot(a, b)\n",
    "\n",
    "%timeit numpy_dot(a, b)"
   ]
  },
  {
   "attachments": {},
   "cell_type": "markdown",
   "metadata": {},
   "source": [
    "# With using Numba"
   ]
  },
  {
   "attachments": {},
   "cell_type": "markdown",
   "metadata": {},
   "source": [
    "## Normal for loop"
   ]
  },
  {
   "cell_type": "code",
   "execution_count": 12,
   "metadata": {},
   "outputs": [
    {
     "name": "stdout",
     "output_type": "stream",
     "text": [
      "1.04 ms ± 46.4 µs per loop (mean ± std. dev. of 7 runs, 1,000 loops each)\n"
     ]
    }
   ],
   "source": [
    "@jit(nopython=True)\n",
    "def normal_for_dot(a, b):\n",
    "    sum = 0\n",
    "    \n",
    "    for i in range(N):\n",
    "        sum += a[i] * b[i]\n",
    "    \n",
    "    return sum\n",
    "\n",
    "%timeit normal_for_dot(a, b)"
   ]
  },
  {
   "attachments": {},
   "cell_type": "markdown",
   "metadata": {},
   "source": [
    "## Normal while loop"
   ]
  },
  {
   "cell_type": "code",
   "execution_count": 13,
   "metadata": {},
   "outputs": [
    {
     "name": "stdout",
     "output_type": "stream",
     "text": [
      "980 µs ± 5.47 µs per loop (mean ± std. dev. of 7 runs, 1,000 loops each)\n"
     ]
    }
   ],
   "source": [
    "@jit(nopython=True)\n",
    "def normal_while_dot(a, b):\n",
    "    i = 0\n",
    "    sum = 0\n",
    "    \n",
    "    while i < N:\n",
    "        sum += a[i] * b[i]\n",
    "        \n",
    "        i += 1\n",
    "    \n",
    "    return sum\n",
    "\n",
    "%timeit normal_while_dot(a, b)"
   ]
  },
  {
   "attachments": {},
   "cell_type": "markdown",
   "metadata": {},
   "source": [
    "## While loop with 2-step unrolling (single sum)"
   ]
  },
  {
   "cell_type": "code",
   "execution_count": 14,
   "metadata": {},
   "outputs": [
    {
     "name": "stdout",
     "output_type": "stream",
     "text": [
      "1.03 ms ± 26.5 µs per loop (mean ± std. dev. of 7 runs, 1,000 loops each)\n"
     ]
    }
   ],
   "source": [
    "@jit(nopython=True)\n",
    "def step_2_while_dot(a, b):\n",
    "    i = 0\n",
    "    sum = 0\n",
    "\n",
    "    while i < N // 2:\n",
    "        sum += a[2 * i + 0] * b[2 * i + 0]\n",
    "        sum += a[2 * i + 1] * b[2 * i + 1]\n",
    "\n",
    "        i += 1\n",
    "\n",
    "    return sum\n",
    "\n",
    "%timeit step_2_while_dot(a, b)"
   ]
  },
  {
   "attachments": {},
   "cell_type": "markdown",
   "metadata": {},
   "source": [
    "## While loop with 2-step unrolling (multiple sum)"
   ]
  },
  {
   "cell_type": "code",
   "execution_count": 15,
   "metadata": {},
   "outputs": [
    {
     "name": "stdout",
     "output_type": "stream",
     "text": [
      "546 µs ± 15.6 µs per loop (mean ± std. dev. of 7 runs, 1,000 loops each)\n"
     ]
    }
   ],
   "source": [
    "@jit(nopython=True)\n",
    "def step_2_while_dot(a, b):\n",
    "    i = 0\n",
    "    sum0 = 0\n",
    "    sum1 = 0\n",
    "\n",
    "    while i < N // 2:\n",
    "        sum0 += a[2 * i + 0] * b[2 * i + 0]\n",
    "        sum1 += a[2 * i + 1] * b[2 * i + 1]\n",
    "\n",
    "        i += 1\n",
    "\n",
    "    return sum0 + sum1\n",
    "\n",
    "%timeit step_2_while_dot(a, b)"
   ]
  },
  {
   "attachments": {},
   "cell_type": "markdown",
   "metadata": {},
   "source": [
    "## While loop with 4-step unrolling (single sum)"
   ]
  },
  {
   "cell_type": "code",
   "execution_count": 16,
   "metadata": {},
   "outputs": [
    {
     "name": "stdout",
     "output_type": "stream",
     "text": [
      "1 ms ± 24.7 µs per loop (mean ± std. dev. of 7 runs, 1,000 loops each)\n"
     ]
    }
   ],
   "source": [
    "@jit(nopython=True)\n",
    "def step_4_while_dot(a, b):\n",
    "    i = 0\n",
    "    sum = 0\n",
    "\n",
    "    while i < N // 4:\n",
    "        sum += a[4 * i + 0] * b[4 * i + 0]\n",
    "        sum += a[4 * i + 1] * b[4 * i + 1]\n",
    "        sum += a[4 * i + 2] * b[4 * i + 2]\n",
    "        sum += a[4 * i + 3] * b[4 * i + 3]\n",
    "\n",
    "        i += 1\n",
    "\n",
    "    return sum\n",
    "\n",
    "%timeit step_4_while_dot(a, b)"
   ]
  },
  {
   "attachments": {},
   "cell_type": "markdown",
   "metadata": {},
   "source": [
    "## While loop with 4-step unrolling (multiple sum)"
   ]
  },
  {
   "cell_type": "code",
   "execution_count": 17,
   "metadata": {},
   "outputs": [
    {
     "name": "stdout",
     "output_type": "stream",
     "text": [
      "338 µs ± 22.2 µs per loop (mean ± std. dev. of 7 runs, 1,000 loops each)\n"
     ]
    }
   ],
   "source": [
    "@jit(nopython=True)\n",
    "def step_4_while_dot(a, b):\n",
    "    i = 0\n",
    "    sum0 = 0\n",
    "    sum1 = 0\n",
    "    sum2 = 0\n",
    "    sum3 = 0\n",
    "    \n",
    "    while i < N // 4:\n",
    "        sum0 += a[4 * i + 0] * b[4 * i + 0]\n",
    "        sum1 += a[4 * i + 1] * b[4 * i + 1]\n",
    "        sum2 += a[4 * i + 2] * b[4 * i + 2]\n",
    "        sum3 += a[4 * i + 3] * b[4 * i + 3]\n",
    "\n",
    "        i += 1\n",
    "\n",
    "    return sum0 + sum1 + sum2 + sum3\n",
    "\n",
    "%timeit step_4_while_dot(a, b)"
   ]
  },
  {
   "attachments": {},
   "cell_type": "markdown",
   "metadata": {},
   "source": [
    "## While loop with 8-step unrolling (single sum)"
   ]
  },
  {
   "cell_type": "code",
   "execution_count": 18,
   "metadata": {},
   "outputs": [
    {
     "name": "stdout",
     "output_type": "stream",
     "text": [
      "975 µs ± 18.2 µs per loop (mean ± std. dev. of 7 runs, 1,000 loops each)\n"
     ]
    }
   ],
   "source": [
    "@jit(nopython=True)\n",
    "def step_8_while_dot(a, b):\n",
    "    i = 0\n",
    "    sum = 0\n",
    "\n",
    "    while i < N // 8:\n",
    "        sum += a[8 * i + 0] * b[8 * i + 0]\n",
    "        sum += a[8 * i + 1] * b[8 * i + 1]\n",
    "        sum += a[8 * i + 2] * b[8 * i + 2]\n",
    "        sum += a[8 * i + 3] * b[8 * i + 3]\n",
    "        sum += a[8 * i + 4] * b[8 * i + 4]\n",
    "        sum += a[8 * i + 5] * b[8 * i + 5]\n",
    "        sum += a[8 * i + 6] * b[8 * i + 6]\n",
    "        sum += a[8 * i + 7] * b[8 * i + 7]\n",
    "\n",
    "        i += 1\n",
    "\n",
    "    return sum\n",
    "\n",
    "%timeit step_8_while_dot(a, b)"
   ]
  },
  {
   "attachments": {},
   "cell_type": "markdown",
   "metadata": {},
   "source": [
    "## While loop with 8-step unrolling (multiple sum)"
   ]
  },
  {
   "cell_type": "code",
   "execution_count": 19,
   "metadata": {},
   "outputs": [
    {
     "name": "stdout",
     "output_type": "stream",
     "text": [
      "329 µs ± 28.6 µs per loop (mean ± std. dev. of 7 runs, 1,000 loops each)\n"
     ]
    }
   ],
   "source": [
    "@jit(nopython=True)\n",
    "def step_8_while_dot(a, b):\n",
    "    i = 0\n",
    "    sum0 = 0\n",
    "    sum1 = 0\n",
    "    sum2 = 0\n",
    "    sum3 = 0\n",
    "    sum4 = 0\n",
    "    sum5 = 0\n",
    "    sum6 = 0\n",
    "    sum7 = 0\n",
    "\n",
    "    while i < N // 8:\n",
    "        sum0 += a[8 * i + 0] * b[8 * i + 0]\n",
    "        sum1 += a[8 * i + 1] * b[8 * i + 1]\n",
    "        sum2 += a[8 * i + 2] * b[8 * i + 2]\n",
    "        sum3 += a[8 * i + 3] * b[8 * i + 3]\n",
    "        sum4 += a[8 * i + 4] * b[8 * i + 4]\n",
    "        sum5 += a[8 * i + 5] * b[8 * i + 5]\n",
    "        sum6 += a[8 * i + 6] * b[8 * i + 6]\n",
    "        sum7 += a[8 * i + 7] * b[8 * i + 7]\n",
    "\n",
    "        i += 1\n",
    "\n",
    "    return sum0 + sum1 + sum2 + sum3 + sum4 + sum5 + sum6 + sum7\n",
    "\n",
    "%timeit step_8_while_dot(a, b)"
   ]
  },
  {
   "attachments": {},
   "cell_type": "markdown",
   "metadata": {},
   "source": [
    "## Numpy dot product"
   ]
  },
  {
   "cell_type": "code",
   "execution_count": 20,
   "metadata": {},
   "outputs": [
    {
     "name": "stdout",
     "output_type": "stream",
     "text": [
      "508 µs ± 1.4 µs per loop (mean ± std. dev. of 7 runs, 1,000 loops each)\n"
     ]
    }
   ],
   "source": [
    "@jit(nopython=True)\n",
    "def numpy_dot(a, b):\n",
    "    return np.dot(a, b)\n",
    "\n",
    "%timeit numpy_dot(a, b)"
   ]
  },
  {
   "attachments": {},
   "cell_type": "markdown",
   "metadata": {},
   "source": [
    "# Result conclutsion:\n",
    "\n",
    "The tests are obtained on Apple M1 CPU. The results are shown in the table below. The results are obtained by running the code multiple times and taking the average time.\n",
    "\n",
    "## Without using Numba\n",
    "\n",
    "| Unrollings | Sumiation | Time              |\n",
    "|:----------:|:---------:|:-----------------:|\n",
    "| 1          | Single    | 169 ms ± 1.4 ms   |\n",
    "| 2          | Single    | 224 ms ± 4.97 ms  |\n",
    "| 2          | Multiple  | 217 ms ± 1.36 ms  |\n",
    "| 4          | Single    | 202 ms ± 1.26 ms  |\n",
    "| 4          | Multiple  | 199 ms ± 1.22 ms  |\n",
    "| 8          | Single    | 196 ms ± 781 µs   |\n",
    "| 8          | Multiple  | 197 ms ± 422 µs   |\n",
    "| numpy.dot  | Single    | 515 µs ± 5.63 µs  |\n",
    "\n",
    "## With using Numba\n",
    "\n",
    "| Unrollings | Sumiation | Time              |\n",
    "|:----------:|:---------:|:-----------------:|\n",
    "| 1          | Single    | 980 µs ± 5.47 µs  |\n",
    "| 2          | Single    | 1.03 ms ± 26.5 µs |\n",
    "| 2          | Multiple  | 546 µs ± 15.6 µs  |\n",
    "| 4          | Single    | 1 ms ± 24.7 µs    |\n",
    "| 4          | Multiple  | 338 µs ± 22.2 µs  |\n",
    "| 8          | Single    | 975 µs ± 18.2 µs  |\n",
    "| 8          | Multiple  | 329 µs ± 28.6 µs  |\n",
    "| numpy.dot  | Single    | 508 µs ± 1.4 µs   |\n",
    "\n",
    "## Conclusion\n",
    "\n",
    "It seens that Numba is very useful for speeding up the code. When not using Numba, the speed of the code is not improving by unrolling the loop. However, when using Numba, the speed of the code only improves by unrolling if we use multiple sum. When not using Numba the single sum and multiple sun dosn't make a difference. However, when using Numba the multiple sum is much faster than the single sum. The numpy.dot is the fastest method."
   ]
  }
 ],
 "metadata": {
  "kernelspec": {
   "display_name": "base",
   "language": "python",
   "name": "python3"
  },
  "language_info": {
   "codemirror_mode": {
    "name": "ipython",
    "version": 3
   },
   "file_extension": ".py",
   "mimetype": "text/x-python",
   "name": "python",
   "nbconvert_exporter": "python",
   "pygments_lexer": "ipython3",
   "version": "3.9.12 (main, Jun  1 2022, 06:34:44) \n[Clang 12.0.0 ]"
  },
  "orig_nbformat": 4,
  "vscode": {
   "interpreter": {
    "hash": "d3f4908ea2d3c64182028bdc221ef523ef87b6680b6b9be305fccec382302126"
   }
  }
 },
 "nbformat": 4,
 "nbformat_minor": 2
}
